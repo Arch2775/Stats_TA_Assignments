{
  "cells": [
    {
      "cell_type": "markdown",
      "source": [
        "**UE22MA242A: Mathematics for Computer Science Engineers**\n",
        "\n",
        "Python tutorial: Poisson distribution\n",
        "\n",
        "By:- Archishman VB (TA-MCSE)"
      ],
      "metadata": {
        "id": "oNul_lcQVILv"
      },
      "id": "oNul_lcQVILv"
    },
    {
      "cell_type": "markdown",
      "source": [
        "In statistics, a Poisson distribution is a discrete probability distribution that tells how many times an event is likely to occur over a specified period. It is a count distribution, the parameter of which is lambda (λ); the mean number of events in the specific interval.\n",
        "\n",
        "As the Poisson distribution is a discrete function, the variable can only take specific values in a (potentially infinite) list. Put differently, the variable cannot take all values in any continuous range. For the Poisson distribution, the variable can only take whole number values (0, 1, 2, 3, etc.), with no fractions or decimals.\n",
        "\n",
        "Poisson distributions are often used to understand independent events that occur at a constant rate within a given interval of time. It was named after French mathematician Siméon Denis Poisson.\n",
        "\n"
      ],
      "metadata": {
        "id": "cJYGeyHmUmgy"
      },
      "id": "cJYGeyHmUmgy"
    },
    {
      "cell_type": "markdown",
      "source": [
        "# **The Tale of the Energy Forecasters: A Journey Through the Poisson Valley**\n",
        "\n",
        "Once upon a time in the bustling city of Dataopolis, there was a group of bright young analysts known as the Energy Forecasters. Their task was to predict the energy consumption in the city’s massive grid, ensuring that every home, business, and streetlight stayed powered. But, the city’s energy usage was unpredictable, with lights flickering on and off at different times, appliances humming in kitchens, and factories roaring to life at dawn.\n",
        "\n",
        "The leader of the Energy Forecasters, Professor Lambda, was a wise old sage who had seen many patterns in the numbers. He gathered the young analysts and spoke of a mystical distribution that could help them understand and predict the seemingly random energy consumption of the city.\n",
        "\n",
        "“Gather round, my students,” Professor Lambda began. “Today, we embark on a journey through the Poisson Valley, where we will learn to predict the unpredictable. To do this, we must study the ancient scrolls of data, known as the Hourly Energy Consumption Records. These records hold the key to understanding the rhythm of the city’s energy usage.”"
      ],
      "metadata": {
        "id": "Ee7JpGUdW8fA"
      },
      "id": "Ee7JpGUdW8fA"
    },
    {
      "cell_type": "markdown",
      "source": [
        "# **Chapter 1: The Scrolls of Dataopolis**\n",
        "\n",
        "The analysts set out to explore the Hourly Energy Consumption Records. They unrolled the scrolls and began examining the data, which documented the city’s energy consumption every hour of every day.\n",
        "\n",
        "“First, we must convert these records into a form we can study,” said one of the analysts. They carefully transformed the datetime information in the scrolls and organized the data so that each hour stood as its own interval."
      ],
      "metadata": {
        "id": "85rl9ScTXJmw"
      },
      "id": "85rl9ScTXJmw"
    },
    {
      "cell_type": "code",
      "source": [
        "import numpy as np\n",
        "import pandas as pd\n",
        "import matplotlib.pyplot as plt"
      ],
      "metadata": {
        "id": "5RMc2w2CX2F3"
      },
      "id": "5RMc2w2CX2F3",
      "execution_count": null,
      "outputs": []
    },
    {
      "cell_type": "code",
      "source": [
        "##Load the dataset and understand its structure.\n",
        "##Convert the datetime column to a suitable format and resample the data to get the hourly average.\n"
      ],
      "metadata": {
        "id": "zTNA6qYXW8I_"
      },
      "id": "zTNA6qYXW8I_",
      "execution_count": null,
      "outputs": []
    },
    {
      "cell_type": "markdown",
      "source": [
        "# **Chapter 2: The Average Consumption Ritual**\n",
        "\n",
        "“Before we venture into the Poisson Valley,” Professor Lambda advised, “we must perform the ritual of average consumption. This will give us the power to calculate the\n",
        "𝜆, the average rate at which energy is consumed in the city each hour.”\n",
        "\n",
        "The analysts gathered around the scrolls, calculating the average energy consumed per hour. After a few moments of calculation, they discovered that the city’s energy usage, on average, was a certain number of units each hour.\n",
        "\n",
        "“Behold!” one of the analysts exclaimed, “we have found our\n",
        "𝜆! This number shall guide us through the valley.”"
      ],
      "metadata": {
        "id": "a4u6UwP_YCE9"
      },
      "id": "a4u6UwP_YCE9"
    },
    {
      "cell_type": "code",
      "source": [
        "##Calculate the average energy consumption per hour."
      ],
      "metadata": {
        "id": "kc_YrsaFYR-j"
      },
      "id": "kc_YrsaFYR-j",
      "execution_count": null,
      "outputs": []
    },
    {
      "cell_type": "markdown",
      "source": [],
      "metadata": {
        "id": "Dl4y2Sf_gBcR"
      },
      "id": "Dl4y2Sf_gBcR"
    },
    {
      "cell_type": "markdown",
      "source": [
        "# **Chapter 3: The Poisson Valley**\n",
        "\n",
        "With their λ in hand, the analysts prepared to enter the Poisson Valley. Here, they would use the mystical Poisson distribution to understand the probability of different amounts of energy being consumed in any given hour.\n",
        "\n",
        "Professor Lambda handed them a special formula, one that could predict the likelihood of different outcomes based on their 𝜆:  \n",
        "\n",
        "\n",
        "![image.png](data:image/png;base64,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)\n",
        "\n",
        "\n",
        "“This formula will help you determine the probability of consuming exactly\n",
        "𝑘 units of energy in an hour,” he explained. “Use it wisely.”\n",
        "\n",
        "The analysts worked diligently, applying the formula to different values of\n",
        "𝑘, from (14500-16500) MW, to see what the Poisson distribution foretold.\n"
      ],
      "metadata": {
        "id": "njmd_CMxakLk"
      },
      "id": "njmd_CMxakLk"
    },
    {
      "cell_type": "code",
      "source": [
        "##Implement the Poisson distribution formula.\n",
        "##Calculate the Poisson distribution for a range of 𝑘 values.\n",
        "import numpy as np\n",
        "import plotly.graph_objects as go\n",
        "from scipy.stats import poisson"
      ],
      "metadata": {
        "id": "xj8QFR3dco1s"
      },
      "id": "xj8QFR3dco1s",
      "execution_count": null,
      "outputs": []
    },
    {
      "cell_type": "markdown",
      "source": [
        "# **Chapter 4: The Comparison of Realms**\n",
        "\n",
        "After calculating the probabilities, the analysts created a grand chart. On it, they plotted the Poisson distribution they had just calculated. But their task was not yet complete.\n",
        "\n",
        "“Now, young analysts,” Professor Lambda instructed, “compare what the Poisson Valley predicts with the actual events recorded in the scrolls. Create a histogram of the real energy consumption and overlay it with the Poisson prediction.”\n",
        "\n",
        "The analysts did as they were told. They created a plot showing the actual distribution of energy usage, then overlaid the Poisson prediction on top. The two distributions seemed to dance together, with the Poisson curve gracefully flowing around the actual data points."
      ],
      "metadata": {
        "id": "7ILp8L3Vf28p"
      },
      "id": "7ILp8L3Vf28p"
    },
    {
      "cell_type": "code",
      "source": [
        "##Compare the actual data distribution with the Poisson model using plots.\n",
        "import numpy as np\n",
        "import matplotlib.pyplot as plt"
      ],
      "metadata": {
        "id": "iEaAL4lke9nk"
      },
      "id": "iEaAL4lke9nk",
      "execution_count": null,
      "outputs": []
    },
    {
      "cell_type": "markdown",
      "source": [
        "# **Chapter 5: The Revelation**\n",
        "\n",
        "As the analysts studied the charts, they began to see patterns. Sometimes the Poisson prediction was spot-on, and other times it missed slightly. They noticed that the Poisson distribution was a good approximation, but it wasn’t perfect.\n",
        "\n",
        "“This is the true lesson of the Poisson Valley,” Professor Lambda concluded. “While the Poisson distribution gives us great insight, it’s not always the full story. There are other forces at play in Dataopolis—patterns and trends we must also consider. But with this knowledge, you are now equipped to better understand the city’s energy usage and make more informed predictions.”"
      ],
      "metadata": {
        "id": "MIzoqmnJgNKd"
      },
      "id": "MIzoqmnJgNKd"
    },
    {
      "cell_type": "code",
      "source": [
        "##Analyze and interpret the results.\n",
        "## Analyze the fit of the model, variation between actual and simulated graphs and practical implications"
      ],
      "metadata": {
        "id": "gnih_HQRgTSy"
      },
      "id": "gnih_HQRgTSy",
      "execution_count": null,
      "outputs": []
    },
    {
      "cell_type": "markdown",
      "source": [
        "With their new knowledge, the analysts returned to Dataopolis, where they were hailed as heroes. The city’s power grid became more stable, as the analysts used their understanding of the Poisson distribution to help predict and manage energy consumption more effectively.\n",
        "\n",
        "And so, the tale of the Energy Forecasters and their journey through the Poisson Valley became legend, passed down to future generations of analysts, who would continue to explore the mysteries of data and make sense of the unpredictable."
      ],
      "metadata": {
        "id": "0G0jeHRNggah"
      },
      "id": "0G0jeHRNggah"
    }
  ],
  "metadata": {
    "kernelspec": {
      "display_name": "Python 3 (ipykernel)",
      "language": "python",
      "name": "python3"
    },
    "language_info": {
      "codemirror_mode": {
        "name": "ipython",
        "version": 3
      },
      "file_extension": ".py",
      "mimetype": "text/x-python",
      "name": "python",
      "nbconvert_exporter": "python",
      "pygments_lexer": "ipython3",
      "version": "3.9.12"
    },
    "colab": {
      "provenance": []
    }
  },
  "nbformat": 4,
  "nbformat_minor": 5
}