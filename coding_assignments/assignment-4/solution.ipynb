{
  "nbformat": 4,
  "nbformat_minor": 0,
  "metadata": {
    "colab": {
      "provenance": []
    },
    "kernelspec": {
      "name": "python3",
      "display_name": "Python 3"
    },
    "language_info": {
      "name": "python"
    }
  },
  "cells": [
    {
      "cell_type": "code",
      "execution_count": 1,
      "metadata": {
        "id": "-fy7YhRzURJQ"
      },
      "outputs": [],
      "source": [
        "# Import necessary libraries\n",
        "import numpy as np\n",
        "import pandas as pd\n",
        "import matplotlib.pyplot as plt\n",
        "import seaborn as sns\n",
        "from scipy import stats"
      ]
    },
    {
      "cell_type": "code",
      "source": [
        "# Load the dataset\n",
        "df = pd.read_csv('StudentsPerformance.csv')"
      ],
      "metadata": {
        "id": "5gSXd8RkaLE1"
      },
      "execution_count": 2,
      "outputs": []
    },
    {
      "cell_type": "code",
      "source": [
        "# 1. Exploratory Data Analysis (EDA)\n",
        "# Display basic statistics and dataset info\n",
        "print(df.describe())\n",
        "print(df.info())"
      ],
      "metadata": {
        "colab": {
          "base_uri": "https://localhost:8080/"
        },
        "id": "RBqQ5m7TaVSG",
        "outputId": "d69248be-583e-41ef-b42b-0b53bef3741f"
      },
      "execution_count": 3,
      "outputs": [
        {
          "output_type": "stream",
          "name": "stdout",
          "text": [
            "       math score  reading score  writing score\n",
            "count  1000.00000    1000.000000    1000.000000\n",
            "mean     66.08900      69.169000      68.054000\n",
            "std      15.16308      14.600192      15.195657\n",
            "min       0.00000      17.000000      10.000000\n",
            "25%      57.00000      59.000000      57.750000\n",
            "50%      66.00000      70.000000      69.000000\n",
            "75%      77.00000      79.000000      79.000000\n",
            "max     100.00000     100.000000     100.000000\n",
            "<class 'pandas.core.frame.DataFrame'>\n",
            "RangeIndex: 1000 entries, 0 to 999\n",
            "Data columns (total 8 columns):\n",
            " #   Column                       Non-Null Count  Dtype \n",
            "---  ------                       --------------  ----- \n",
            " 0   gender                       1000 non-null   object\n",
            " 1   race/ethnicity               1000 non-null   object\n",
            " 2   parental level of education  1000 non-null   object\n",
            " 3   lunch                        1000 non-null   object\n",
            " 4   test preparation course      1000 non-null   object\n",
            " 5   math score                   1000 non-null   int64 \n",
            " 6   reading score                1000 non-null   int64 \n",
            " 7   writing score                1000 non-null   int64 \n",
            "dtypes: int64(3), object(5)\n",
            "memory usage: 62.6+ KB\n",
            "None\n"
          ]
        }
      ]
    },
    {
      "cell_type": "code",
      "source": [
        "# Visualize the relationship between gender and exam scores\n",
        "plt.figure(figsize=(10, 6))\n",
        "sns.boxplot(x='gender', y='math score', data=df)\n",
        "plt.title('Math Scores by Gender')\n",
        "plt.show()"
      ],
      "metadata": {
        "colab": {
          "base_uri": "https://localhost:8080/",
          "height": 564
        },
        "id": "J3tt3q_JaWzN",
        "outputId": "fc47f535-4b6e-4b02-eb80-e612c71e11ca"
      },
      "execution_count": 4,
      "outputs": [
        {
          "output_type": "display_data",
          "data": {
            "text/plain": [
              "<Figure size 1000x600 with 1 Axes>"
            ],
            "image/png": "[encoded data removed]"
          },
          "metadata": {}
        }
      ]
    },
    {
      "cell_type": "code",
      "source": [
        "# 2. Confidence Interval Calculation using t-tests\n",
        "\n",
        "# Function to calculate confidence interval using t-test\n",
        "def ttest_confidence_interval(data1, data2=None, confidence=0.95):\n",
        "    if data2 is None:\n",
        "        # One-sample t-test confidence interval\n",
        "        mean = np.mean(data1)\n",
        "        sem = stats.sem(data1)  # Standard error of the mean\n",
        "        df = len(data1) - 1  # Degrees of freedom\n",
        "        t_crit = stats.t.ppf((1 + confidence) / 2., df)  # t-critical value for two-tailed test\n",
        "        margin_of_error = t_crit * sem\n",
        "        return mean, mean - margin_of_error, mean + margin_of_error\n",
        "    else:\n",
        "        # Two-sample t-test confidence interval\n",
        "        t_stat, p_value = stats.ttest_ind(data1, data2)\n",
        "        mean_diff = np.mean(data1) - np.mean(data2)\n",
        "        pooled_std_error = np.sqrt(stats.sem(data1)**2 + stats.sem(data2)**2)\n",
        "        df = len(data1) + len(data2) - 2\n",
        "        t_crit = stats.t.ppf((1 + confidence) / 2., df)\n",
        "        margin_of_error = t_crit * pooled_std_error\n",
        "        return mean_diff, mean_diff - margin_of_error, mean_diff + margin_of_error, p_value"
      ],
      "metadata": {
        "id": "r9pgMznaaYfu"
      },
      "execution_count": 5,
      "outputs": []
    },
    {
      "cell_type": "code",
      "source": [
        "# 2.1 Confidence Interval for Math Scores (Test Preparation Course)\n",
        "preparation_completed = df[df['test preparation course'] == 'completed']['math score']\n",
        "preparation_none = df[df['test preparation course'] == 'none']['math score']\n",
        "\n",
        "mean_diff, ci_low, ci_high, p_value = ttest_confidence_interval(preparation_completed, preparation_none)\n",
        "print(f\"Mean Difference (Test Preparation Completed vs None): {mean_diff}\")\n",
        "print(f\"95% CI for Mean Difference: [{ci_low}, {ci_high}]\")\n",
        "print(f\"P-value: {p_value}\")"
      ],
      "metadata": {
        "colab": {
          "base_uri": "https://localhost:8080/"
        },
        "id": "zxlsxOpDadXe",
        "outputId": "47f78b23-7a3f-42e1-842a-78c18273c76e"
      },
      "execution_count": 6,
      "outputs": [
        {
          "output_type": "stream",
          "name": "stdout",
          "text": [
            "Mean Difference (Test Preparation Completed vs None): 5.617649106319291\n",
            "95% CI for Mean Difference: [3.7127257890767518, 7.522572423561831]\n",
            "P-value: 1.5359134607147415e-08\n"
          ]
        }
      ]
    },
    {
      "cell_type": "code",
      "source": [
        "# 2.2 Confidence Interval for Reading Scores (Parental Education Level)\n",
        "bachelors_degree = df[df['parental level of education'] == \"bachelor's degree\"]['reading score']\n",
        "high_school = df[df['parental level of education'] == 'high school']['reading score']\n",
        "\n",
        "mean_diff_education, ci_low_education, ci_high_education, p_value_education = ttest_confidence_interval(bachelors_degree, high_school)\n",
        "print(f\"Mean Difference (Bachelor's Degree vs High School): {mean_diff_education}\")\n",
        "print(f\"95% CI for Mean Difference: [{ci_low_education}, {ci_high_education}]\")\n",
        "print(f\"P-value: {p_value_education}\")"
      ],
      "metadata": {
        "colab": {
          "base_uri": "https://localhost:8080/"
        },
        "id": "hlO1d4Chafhy",
        "outputId": "1b114e64-f74a-4434-d14f-689bc20ae692"
      },
      "execution_count": 7,
      "outputs": [
        {
          "output_type": "stream",
          "name": "stdout",
          "text": [
            "Mean Difference (Bachelor's Degree vs High School): 8.295918367346943\n",
            "95% CI for Mean Difference: [5.034003049359621, 11.557833685334264]\n",
            "P-value: 8.804250310784477e-07\n"
          ]
        }
      ]
    },
    {
      "cell_type": "code",
      "source": [
        "# 2.3 Confidence Interval for Writing Scores (Gender Differences)\n",
        "male_scores = df[df['gender'] == 'male']['writing score']\n",
        "female_scores = df[df['gender'] == 'female']['writing score']\n",
        "\n",
        "mean_diff_gender, ci_low_gender, ci_high_gender, p_value_gender = ttest_confidence_interval(male_scores, female_scores)\n",
        "print(f\"Mean Difference (Male vs Female): {mean_diff_gender}\")\n",
        "print(f\"95% CI for Mean Difference: [{ci_low_gender}, {ci_high_gender}]\")\n",
        "print(f\"P-value: {p_value_gender}\")\n",
        "\n",
        "# Discussion: Based on the results, interpret the confidence intervals and significance of differences between groups."
      ],
      "metadata": {
        "colab": {
          "base_uri": "https://localhost:8080/"
        },
        "id": "yV0syte1ajlU",
        "outputId": "5423ab38-b24b-4460-9959-a49c7744021c"
      },
      "execution_count": 8,
      "outputs": [
        {
          "output_type": "stream",
          "name": "stdout",
          "text": [
            "Mean Difference (Male vs Female): -9.155978147679384\n",
            "95% CI for Mean Difference: [-10.953105814683061, -7.358850480675708]\n",
            "P-value: 2.019877706867934e-22\n"
          ]
        }
      ]
    },
    {
      "cell_type": "markdown",
      "source": [
        "Solution:\n",
        "\n",
        "Test Preparation Impact on Math Scores:\n",
        "\n",
        "The mean difference of 5.62 indicates that students who completed the test preparation course scored, on average, 5.62 points higher in math compared to those who did not.\n",
        "The 95% confidence interval of [3.71, 7.52] suggests that we are 95% confident the true mean difference lies within this range, and since the interval does not include zero, the difference is significant.\n",
        "The p-value of 1.54e-08 is much less than 0.05, strongly indicating that the effect of test preparation on math scores is statistically significant.\n",
        "Parental Education Impact on Reading Scores:\n",
        "\n",
        "The mean difference of 8.30 suggests that students whose parents have a bachelor's degree score, on average, 8.3 points higher in reading compared to those whose parents only have a high school diploma.\n",
        "The 95% confidence interval of [5.03, 11.56] shows that the true mean difference is highly likely to be positive and significant since the interval does not include zero.\n",
        "The p-value of 8.80e-07 is far below 0.05, confirming a significant difference in reading scores based on parental education.\n",
        "Gender Differences in Writing Scores:\n",
        "\n",
        "The mean difference of -9.16 indicates that, on average, female students score 9.16 points higher in writing compared to male students.\n",
        "The 95% confidence interval of [-10.95, -7.36] shows that the true mean difference is negative, further supporting the claim that female students perform better in writing.\n",
        "The p-value of 2.02e-22 is extremely small, confirming a highly significant difference between male and female writing scores.\n",
        "Inference:\n",
        "\n",
        "Test preparation significantly improves math scores.\n",
        "Parental education plays a significant role in reading performance, with higher education levels leading to better scores.\n",
        "Gender affects writing scores, with females outperforming males. All three factors show statistically significant differences, as indicated by the very low p-values and confidence intervals that do not include zero.\n",
        "This analysis shows that external factors, such as test preparation, parental background, and gender, have measurable impacts on student performance. The confidence intervals provide insight into the magnitude of these effects and their precision."
      ],
      "metadata": {
        "id": "Evc_aksgaLc5"
      }
    }
  ]
}