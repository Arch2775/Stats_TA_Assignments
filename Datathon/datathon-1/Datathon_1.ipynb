{
  "nbformat": 4,
  "nbformat_minor": 0,
  "metadata": {
    "colab": {
      "provenance": []
    },
    "kernelspec": {
      "name": "python3",
      "display_name": "Python 3"
    },
    "language_info": {
      "name": "python"
    }
  },
  "cells": [
    {
      "cell_type": "markdown",
      "source": [
        "# MCSE : Datathon\n",
        "\n",
        "Archishman VB (TA-MCSE)"
      ],
      "metadata": {
        "id": "VV0sbO4gaEa5"
      }
    },
    {
      "cell_type": "markdown",
      "source": [
        "# Datathon\n",
        "\n",
        "The Titanic's tragic sinking stands as one of history's most infamous maritime disasters.\n",
        "During her maiden voyage on April 15, 1912, the Titanic struck an iceberg, resulting in her\n",
        "demise and the loss of over 1,500 lives out of the 2,224 passengers and crew on board. This\n",
        "unforgettable catastrophe remains etched in the collective memory of the world. The\n",
        "construction of the Titanic cost a staggering $7.5 million, yet her fate was sealed by a\n",
        "collision with an iceberg.\n",
        "\n",
        "Embarking on a quest into the past, a researcher aims to study the effects of various factors\n",
        "on survival rates of passengers aboard the Titanic. He records information about passengers\n",
        "including demographics, ticket class, cabin allocation, and survival outcomes. Through the\n",
        "lens of statistical analysis, we will use the dataset thus obtained to shed light on the\n",
        "conditions that favoured survival or led to tragedy in that fateful maritime disaster.\n",
        "\n"
      ],
      "metadata": {
        "id": "OjkWp9YaU38L"
      }
    },
    {
      "cell_type": "markdown",
      "source": [
        "The Titanic dataset contains information about passengers who were on board the Titanic\n",
        "when it sank on April 15, 1912. The variables in the dataset include:\n",
        "1. PassengerId: a unique identifier for each passenger\n",
        "2. Survived: a binary variable indicating whether a passenger survived (1) or not (0)\n",
        "3. Pclass: the passenger class (1 = first class, 2 = second class, 3 = third class)\n",
        "4. Name: the name of the passenger\n",
        "5. Sex: the gender of the passenger (male or female)\n",
        "6. Age: the age of the passenger\n",
        "7. SibSp: the number of siblings/spouses aboard the Titanic for the passenger\n",
        "8. Parch: the number of parents/children aboard the Titanic for the passenger\n",
        "9. Ticket: the ticket number for the passenger\n",
        "10. Fare: the fare paid by the passenger\n",
        "11. Cabin: the cabin number for the passenger\n",
        "12. Embarked: the port of embarkation for the passenger (C = Cherbourg, Q =\n",
        "Queenstown, S = Southampton)"
      ],
      "metadata": {
        "id": "vR63XyqvVCrO"
      }
    },
    {
      "cell_type": "markdown",
      "source": [
        "# Questions:-\n",
        "\n",
        "1. Classify the features in the Titanic dataset into their appropriate data types (ordinal,\n",
        "nominal, interval, or ratio). Provide a rationale for each classification.\n",
        "2. A summary statistic provides a numerical summary of a specific feature within the dataset.\n",
        "There are two commonly used categories of summary statistics: those that indicate the\n",
        "central tendency and those that indicate the spread of the data. Identify the most appropriate\n",
        "measure of central tendency for each attribute in the dataset and state its corresponding\n",
        "value. Additionally, calculate the standard deviation and range of values for each column.\n",
        "3. Identify and describe any data quality issues or inconsistencies within the Titanic dataset.\n",
        "What steps would you take to clean and preprocess the data to ensure its accuracy and\n",
        "reliability for further analysis?\n",
        "4. Using a histogram and box plot, assess the presence of outliers in the 'Age' and 'Fare'\n",
        "variables. Describe the visualisations, identify any potential outliers, and explain how you\n",
        "determined their presence or absence.\n",
        "5. What actions would you take to resolve the presence of outliers? Visualise the changes.\n",
        "Hint: Use boxplot and histogram\n",
        "6. Examine the normal probability plot (Q-Q plot) for the 'Fare' variable in the Titanic dataset.\n",
        "Based on the shape and trend of the plot, what conclusions can be drawn? Provide a\n",
        "rationale for your conclusions.\n",
        "7. Calculate the correlation between age and other numerical variables (e.g., fare or the\n",
        "number of siblings/spouses). Set a correlation threshold and create a heatmap to visualise\n",
        "the relationships.\n",
        "8. Generate a pairplot that includes the variables 'Age,' 'Fare,' and 'Sex' while using 'Survived'\n",
        "as the hue in the Titanic dataset. What insights can be gained from the pair plot, and how\n",
        "does it help in visualising the relationships between age, fare, gender, and survival status on\n",
        "the Titanic?\n",
        "9. Use hypothesis testing to answer the following. Define a null and alternate hypothesis. Use\n",
        "a T-test to investigate. Does the amount of Fare paid by the passengers have a significant\n",
        "impact on their survival chances in the Titanic disaster? Plot a histogram to visualise the\n",
        "results. Assume the significance level as 0.05.\n",
        "10. Calculate the margin of error to quantify the precision of the analysis done previously and\n",
        "what you can infer from the results.\n",
        "11. Perform a linear regression to predict 'Fare' using 'Pclass', 'Age', 'SibSp', and 'Parch'. Validate the model using performance metrics like MSE and R-squared value.\n",
        "\n"
      ],
      "metadata": {
        "id": "UqtPUKaWVGMI"
      }
    },
    {
      "cell_type": "markdown",
      "source": [
        "Based on the model you developed, think about which features might be most important in predicting a passenger's survival. Why do you think these features would impact survival, and how might you test your hypothesis?"
      ],
      "metadata": {
        "id": "gaj2S_vQY8WR"
      }
    },
    {
      "cell_type": "markdown",
      "source": [
        "**Question**: In exploring the Titanic dataset, we used existing features such as Age, Pclass, Fare, and Embarked to predict survival. Can you think of additional features that could be engineered from the existing data to improve the model’s predictive power? For example, what insights could be gained by combining features or creating new categorical variables?"
      ],
      "metadata": {
        "id": "_gd6FrdIZ0HA"
      }
    },
    {
      "cell_type": "code",
      "source": [
        "import pandas as pd\n",
        "import numpy as np\n",
        "\n",
        "titanic_data = pd.read_csv('Titanic-Dataset.csv')"
      ],
      "metadata": {
        "id": "0zCMTSb3VjeI"
      },
      "execution_count": 1,
      "outputs": []
    }
  ]
}