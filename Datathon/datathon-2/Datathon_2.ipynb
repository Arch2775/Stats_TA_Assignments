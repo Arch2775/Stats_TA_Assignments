{
  "nbformat": 4,
  "nbformat_minor": 0,
  "metadata": {
    "colab": {
      "provenance": []
    },
    "kernelspec": {
      "name": "python3",
      "display_name": "Python 3"
    },
    "language_info": {
      "name": "python"
    }
  },
  "cells": [
    {
      "cell_type": "markdown",
      "source": [
        "# MCSE : Datathon\n",
        "\n",
        "Archishman VB (TA-MCSE)"
      ],
      "metadata": {
        "id": "VV0sbO4gaEa5"
      }
    },
    {
      "cell_type": "markdown",
      "source": [
        "# Datathon\n",
        "\n",
        "\n",
        "Consider a scenario where a researcher is studying the trends and patterns in diabetes prevalence and its influencing factors within a particular population. They gather a detailed dataset, encompassing individual demographics, lifestyle habits, genetic tendencies, medical histories, and metrics such as glucose levels and insulin production. The objective is to analyze this extensive data to uncover correlations among variables and understand the factors contributing to diabetes onset. By employing advanced analytical methods, including machine learning algorithms, the researcher aims to identify potential risk factors, evaluate the success of current prevention strategies, and provide valuable insights to support the development of targeted interventions, ultimately enhancing public health efforts to combat diabetes.\n",
        "\n"
      ],
      "metadata": {
        "id": "OjkWp9YaU38L"
      }
    },
    {
      "cell_type": "markdown",
      "source": [
        "The dataset comprises information on 768 individuals, including the number of pregnancies,\n",
        "glucose levels, blood pressure, skin thickness, insulin levels, body mass index (BMI), a\n",
        "diabetes pedigree function reflecting genetic influence, age, and an outcome variable\n",
        "indicating the presence (1) or absence (0) of diabetes\n",
        "\n",
        "1. Pregnancies: Number of times pregnant.\n",
        "2. Glucose: Plasma glucose concentration after 2 hours in an oral glucose tolerance test.\n",
        "3. BloodPressure: Diastolic blood pressure (mm Hg).\n",
        "4. SkinThickness: Triceps skinfold thickness (mm).\n",
        "5. Insulin: 2-Hour serum insulin (mu U/ml).\n",
        "6. BMI: Body mass index (weight in kg/(height in m)^2).\n",
        "7. DiabetesPedigreeFunction: Diabetes pedigree function, a measure of the diabetes\n",
        "genetic influence.\n",
        "8. Age: Age in years.\n",
        "9. Outcome: Binary variable indicating whether a person has diabetes (1) or not (0)."
      ],
      "metadata": {
        "id": "vR63XyqvVCrO"
      }
    },
    {
      "cell_type": "markdown",
      "source": [
        "# Questions:-\n",
        "\n",
        "1. Classify the features in the Diabetes dataset into their appropriate data types (ordinal,\n",
        "nominal, interval, or ratio). Provide a rationale for each classification.\n",
        "2. A summary statistic provides a numerical summary of a specific feature within the dataset.\n",
        "There are two commonly used categories of summary statistics: those that indicate the\n",
        "central tendency and those that indicate the spread of the data. Identify the most appropriate\n",
        "measure of central tendency for each attribute in the dataset and state its corresponding\n",
        "value. Additionally, calculate the standard deviation and range of values for each column.\n",
        "3. Identify and describe any data quality issues or inconsistencies within the Diabetes dataset.\n",
        "What steps would you take to clean and preprocess the data to ensure its accuracy and\n",
        "reliability for further analysis?\n",
        "4. Using a histogram and box plot, assess the presence of outliers in the 'Age' and\n",
        "'DiabetesPedigreeFunction' variables. Describe the visualisations, identify any potential\n",
        "outliers, and explain how you determined their presence or absence.\n",
        "5. What actions would you take to resolve the presence of outliers? Visualise the changes.\n",
        "Hint: Use boxplot and histogram\n",
        "6. Examine the normal probability plot (Q-Q plot) for the 'DiabetesPedigreeFunction' variable\n",
        "in the Diabetes dataset. Based on the shape and trend of the plot, what conclusions can be\n",
        "drawn? Provide a rationale for your conclusions.\n",
        "7. Calculate the correlation between age and other numerical variables (e.g., Pregnancies or\n",
        "BloodPressure). Set a correlation threshold and create a heatmap to visualise the\n",
        "relationships.\n",
        "8. Generate a pairplot that includes the variables 'Age’, ‘DiabetesPedigreeFunction', and\n",
        "'Pregnancies' while using 'Outcome' as the hue in the dataset. What insights can be gained\n",
        "from the pairplot, and how does it help in visualising the relationships between the given\n",
        "features and if someone is diabetic or not?\n",
        "9. Is there a significant difference in the mean glucose levels between individuals with\n",
        "diabetes (Outcome = 1) and those without diabetes (Outcome = 0)?Formulate null and\n",
        "alternative hypotheses and employ a T-test to examine this relationship.Plot a histogram to\n",
        "visualise the results. Assume significance level as 0.05.\n",
        "10. Calculate the margin of error to quantify the precision of the analysis done previously and\n",
        "what you can infer from the results.\n",
        "11. Perform a linear regression to predict 'DiabetesPedigreeFunction' using 'Pregnancies', 'Glucose', 'BloodPressure', 'SkinThickness', 'Insulin', 'BMI', 'Age'. Validate the model using performance metrics like MSE and R-squared value.\n"
      ],
      "metadata": {
        "id": "UqtPUKaWVGMI"
      }
    },
    {
      "cell_type": "markdown",
      "source": [
        "Based on the model you developed, think about which features might be most important in predicting the Diabetes Pedigree Function. Why do you think these features would impact the perdiction, and how might you test your hypothesis?"
      ],
      "metadata": {
        "id": "sgZhUIr513k6"
      }
    },
    {
      "cell_type": "markdown",
      "source": [
        "**Question**:\n",
        "What additional features could be engineered from the existing data in the diabetes dataset to improve the prediction of diabetes outcomes?\n",
        "\n",
        "\n",
        "\n",
        "\n"
      ],
      "metadata": {
        "id": "g0rvL7qw1oKy"
      }
    },
    {
      "cell_type": "code",
      "source": [
        "import pandas as pd\n",
        "import numpy as np\n",
        "\n",
        "diabetes_data = pd.read_csv('diabetes.csv')"
      ],
      "metadata": {
        "id": "0zCMTSb3VjeI"
      },
      "execution_count": 3,
      "outputs": []
    }
  ]
}